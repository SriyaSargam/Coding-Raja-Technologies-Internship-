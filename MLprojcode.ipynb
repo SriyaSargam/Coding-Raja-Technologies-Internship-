# Step 2: Cleaning Data involves Removing Stop Words + Lemmatization + Remove [non-word charecters, single charecter, spaces , URLs]
from sklearn.model_selection import train_test_split
import re
import nltk
nltk.download('wordnet')
nltk.download('stopwords')
from nltk.stem import WordNetLemmatizer
from nltk.corpus import stopwords
import pandas as pd
import string

def getsentiment(x):
    if(x==1):
        return -1*x
    else:
        return x+4

tabledep = pd.read_csv("sentimentdep.csv")
tabledep["label"] = tabledep["label"].apply(getsentiment)
coldep = [tabledep["message"],tabledep["label"]]
headers=["message","sentiment"]
datadep = pd.concat(coldep, axis=1,keys=headers)
print(datadep)

tablenorm = pd.read_csv("sentimentnorm.csv",encoding='latin-1',header=None)
colnorm = [tablenorm[5],tablenorm[0]]
headers=["message","sentiment"]
datanorm = pd.concat(colnorm, axis=1,keys=headers)
print(datanorm)

dataframes = [datadep,datanorm]
datatotal = pd.concat(dataframes)

print(datatotal)

# data = data.head(5000)
input_data = datatotal['message']
output_data = datatotal['sentiment']


sentence = []

WordReduced = WordNetLemmatizer()

# Stop Words Set
stopWordsSet = set(stopwords.words('english'))
# print(stopWordsSet)


# cleaning data
def data_cleaning(data_sentence):
    data_sentence = re.sub(r'[^\w\s]','',str(data_sentence))
    
    data_sentence = re.sub(r'\s+[a-zA-Z]\s+','',data_sentence)

    data_sentence = re.sub(r'\s\s+','',data_sentence)

    data_sentence = re.sub('((www.[^s]+)| (https?://[^s]))','',data_sentence)

    data_sentence= data_sentence.lower()

    data_sentence = data_sentence.split()
    
    data_sentence = [WordReduced.lemmatize(word) for word in data_sentence]
    
    data_sentence = [word for word in data_sentence if word not in stopWordsSet]
    
    data_sentence = ' '.join(data_sentence)
    
    return data_sentence

datatotal["message"] = datatotal["message"].apply(lambda x: data_cleaning(x))
print("done")
[nltk_data] Downloading package wordnet to /Users/anusha/nltk_data...
[nltk_data]   Package wordnet is already up-to-date!
[nltk_data] Downloading package stopwords to
[nltk_data]     /Users/anusha/nltk_data...
[nltk_data]   Package stopwords is already up-to-date!
                                                 message  sentiment
0      just had a real good moment. i missssssssss hi...          4
1             is reading manga  http://plurk.com/p/mzp1e          4
2      @comeagainjen http://twitpic.com/2y2lx - http:...          4
3      @lapcat Need to send 'em to my accountant tomo...          4
4          ADD ME ON MYSPACE!!!  myspace.com/LookThunder          4
...                                                  ...        ...
10309  No Depression by G Herbo is my mood from now o...         -1
10310  What do you do when depression succumbs the br...         -1
10311  Ketamine Nasal Spray Shows Promise Against Dep...         -1
10312  dont mistake a bad day with depression! everyo...         -1
10313                                                  0         -1

[10314 rows x 2 columns]
                                                   message  sentiment
0        @switchfoot http://twitpic.com/2y1zl - Awww, t...          0
1        is upset that he can't update his Facebook by ...          0
2        @Kenichan I dived many times for the ball. Man...          0
3          my whole body feels itchy and like its on fire           0
4        @nationwideclass no, it's not behaving at all....          0
...                                                    ...        ...
1599995  Just woke up. Having no school is the best fee...          4
1599996  TheWDB.com - Very cool to hear old Walt interv...          4
1599997  Are you ready for your MoJo Makeover? Ask me f...          4
1599998  Happy 38th Birthday to my boo of alll time!!! ...          4
1599999  happy #charitytuesday @theNSPCC @SparksCharity...          4

[1600000 rows x 2 columns]
                                                   message  sentiment
0        just had a real good moment. i missssssssss hi...          4
1               is reading manga  http://plurk.com/p/mzp1e          4
2        @comeagainjen http://twitpic.com/2y2lx - http:...          4
3        @lapcat Need to send 'em to my accountant tomo...          4
4            ADD ME ON MYSPACE!!!  myspace.com/LookThunder          4
...                                                    ...        ...
1599995  Just woke up. Having no school is the best fee...          4
1599996  TheWDB.com - Very cool to hear old Walt interv...          4
1599997  Are you ready for your MoJo Makeover? Ask me f...          4
1599998  Happy 38th Birthday to my boo of alll time!!! ...          4
1599999  happy #charitytuesday @theNSPCC @SparksCharity...          4

[1610314 rows x 2 columns]
done
